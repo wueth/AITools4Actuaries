{
 "cells": [
  {
   "cell_type": "markdown",
   "metadata": {},
   "source": [
    "# AI Tools for Actuaries\n",
    "## Chapter 3: Poisson GLM in Python\n",
    "### Author: Mario Wuthrich\n",
    "### Version March 2025"
   ]
  },
  {
   "cell_type": "code",
   "execution_count": null,
   "metadata": {},
   "outputs": [],
   "source": [
    "# Import required libraries\n",
    "import time\n",
    "\n",
    "import numpy as np\n",
    "import pandas as pd\n",
    "import statsmodels.api as sm\n",
    "from statsmodels.formula.api import glm"
   ]
  },
  {
   "cell_type": "markdown",
   "metadata": {},
   "source": [
    "### Define Poisson Deviance Loss Function\n",
    "We scale with $10^2$ for better visibility\n"
   ]
  },
  {
   "cell_type": "code",
   "execution_count": null,
   "metadata": {},
   "outputs": [],
   "source": [
    "def poisson_deviance(pred, obs):\n",
    "    \"\"\"Average Poisson deviance for claim counts.\"\"\"\n",
    "    dev_sum = 2 * (np.sum(pred) - np.sum(obs) + np.sum(np.log((obs / pred) ** obs)))\n",
    "    return 100 * dev_sum / len(pred)"
   ]
  },
  {
   "cell_type": "markdown",
   "metadata": {},
   "source": [
    "### Load Data"
   ]
  },
  {
   "cell_type": "code",
   "execution_count": null,
   "metadata": {},
   "outputs": [
    {
     "name": "stdout",
     "output_type": "stream",
     "text": [
      "<class 'pandas.core.frame.DataFrame'>\n",
      "RangeIndex: 678007 entries, 0 to 678006\n",
      "Data columns (total 14 columns):\n",
      " #   Column      Non-Null Count   Dtype   \n",
      "---  ------      --------------   -----   \n",
      " 0   IDpol       678007 non-null  float64 \n",
      " 1   Exposure    678007 non-null  float64 \n",
      " 2   Area        678007 non-null  category\n",
      " 3   VehPower    678007 non-null  int32   \n",
      " 4   VehAge      678007 non-null  int32   \n",
      " 5   DrivAge     678007 non-null  int32   \n",
      " 6   BonusMalus  678007 non-null  int32   \n",
      " 7   VehBrand    678007 non-null  category\n",
      " 8   VehGas      678007 non-null  category\n",
      " 9   Density     678007 non-null  int32   \n",
      " 10  Region      678007 non-null  category\n",
      " 11  ClaimTotal  678007 non-null  float64 \n",
      " 12  ClaimNb     678007 non-null  float64 \n",
      " 13  LearnTest   678007 non-null  object  \n",
      "dtypes: category(4), float64(4), int32(5), object(1)\n",
      "memory usage: 41.4+ MB\n",
      "None\n"
     ]
    },
    {
     "data": {
      "text/html": [
       "<div>\n",
       "<style scoped>\n",
       "    .dataframe tbody tr th:only-of-type {\n",
       "        vertical-align: middle;\n",
       "    }\n",
       "\n",
       "    .dataframe tbody tr th {\n",
       "        vertical-align: top;\n",
       "    }\n",
       "\n",
       "    .dataframe thead th {\n",
       "        text-align: right;\n",
       "    }\n",
       "</style>\n",
       "<table border=\"1\" class=\"dataframe\">\n",
       "  <thead>\n",
       "    <tr style=\"text-align: right;\">\n",
       "      <th></th>\n",
       "      <th>IDpol</th>\n",
       "      <th>Exposure</th>\n",
       "      <th>Area</th>\n",
       "      <th>VehPower</th>\n",
       "      <th>VehAge</th>\n",
       "      <th>DrivAge</th>\n",
       "      <th>BonusMalus</th>\n",
       "      <th>VehBrand</th>\n",
       "      <th>VehGas</th>\n",
       "      <th>Density</th>\n",
       "      <th>Region</th>\n",
       "      <th>ClaimTotal</th>\n",
       "      <th>ClaimNb</th>\n",
       "      <th>LearnTest</th>\n",
       "    </tr>\n",
       "  </thead>\n",
       "  <tbody>\n",
       "    <tr>\n",
       "      <th>0</th>\n",
       "      <td>1.0</td>\n",
       "      <td>0.10</td>\n",
       "      <td>D</td>\n",
       "      <td>5</td>\n",
       "      <td>0</td>\n",
       "      <td>55</td>\n",
       "      <td>50</td>\n",
       "      <td>B12</td>\n",
       "      <td>Regular</td>\n",
       "      <td>1217</td>\n",
       "      <td>R82</td>\n",
       "      <td>0.0</td>\n",
       "      <td>0.0</td>\n",
       "      <td>L</td>\n",
       "    </tr>\n",
       "    <tr>\n",
       "      <th>1</th>\n",
       "      <td>3.0</td>\n",
       "      <td>0.77</td>\n",
       "      <td>D</td>\n",
       "      <td>5</td>\n",
       "      <td>0</td>\n",
       "      <td>55</td>\n",
       "      <td>50</td>\n",
       "      <td>B12</td>\n",
       "      <td>Regular</td>\n",
       "      <td>1217</td>\n",
       "      <td>R82</td>\n",
       "      <td>0.0</td>\n",
       "      <td>0.0</td>\n",
       "      <td>L</td>\n",
       "    </tr>\n",
       "    <tr>\n",
       "      <th>2</th>\n",
       "      <td>5.0</td>\n",
       "      <td>0.75</td>\n",
       "      <td>B</td>\n",
       "      <td>6</td>\n",
       "      <td>2</td>\n",
       "      <td>52</td>\n",
       "      <td>50</td>\n",
       "      <td>B12</td>\n",
       "      <td>Diesel</td>\n",
       "      <td>54</td>\n",
       "      <td>R22</td>\n",
       "      <td>0.0</td>\n",
       "      <td>0.0</td>\n",
       "      <td>L</td>\n",
       "    </tr>\n",
       "    <tr>\n",
       "      <th>3</th>\n",
       "      <td>10.0</td>\n",
       "      <td>0.09</td>\n",
       "      <td>B</td>\n",
       "      <td>7</td>\n",
       "      <td>0</td>\n",
       "      <td>46</td>\n",
       "      <td>50</td>\n",
       "      <td>B12</td>\n",
       "      <td>Diesel</td>\n",
       "      <td>76</td>\n",
       "      <td>R72</td>\n",
       "      <td>0.0</td>\n",
       "      <td>0.0</td>\n",
       "      <td>L</td>\n",
       "    </tr>\n",
       "    <tr>\n",
       "      <th>4</th>\n",
       "      <td>11.0</td>\n",
       "      <td>0.84</td>\n",
       "      <td>B</td>\n",
       "      <td>7</td>\n",
       "      <td>0</td>\n",
       "      <td>46</td>\n",
       "      <td>50</td>\n",
       "      <td>B12</td>\n",
       "      <td>Diesel</td>\n",
       "      <td>76</td>\n",
       "      <td>R72</td>\n",
       "      <td>0.0</td>\n",
       "      <td>0.0</td>\n",
       "      <td>L</td>\n",
       "    </tr>\n",
       "  </tbody>\n",
       "</table>\n",
       "</div>"
      ],
      "text/plain": [
       "   IDpol  Exposure Area  VehPower  VehAge  DrivAge  BonusMalus VehBrand  \\\n",
       "0    1.0      0.10    D         5       0       55          50      B12   \n",
       "1    3.0      0.77    D         5       0       55          50      B12   \n",
       "2    5.0      0.75    B         6       2       52          50      B12   \n",
       "3   10.0      0.09    B         7       0       46          50      B12   \n",
       "4   11.0      0.84    B         7       0       46          50      B12   \n",
       "\n",
       "    VehGas  Density Region  ClaimTotal  ClaimNb LearnTest  \n",
       "0  Regular     1217    R82         0.0      0.0         L  \n",
       "1  Regular     1217    R82         0.0      0.0         L  \n",
       "2   Diesel       54    R22         0.0      0.0         L  \n",
       "3   Diesel       76    R72         0.0      0.0         L  \n",
       "4   Diesel       76    R72         0.0      0.0         L  "
      ]
     },
     "execution_count": 6,
     "metadata": {},
     "output_type": "execute_result"
    }
   ],
   "source": [
    "df = pd.read_parquet(\"../../Data/freMTPL2freq.parquet\")\n",
    "print(df.info())\n",
    "df.head()"
   ]
  },
  {
   "cell_type": "markdown",
   "metadata": {},
   "source": [
    "### Preprocess Data for GLM"
   ]
  },
  {
   "cell_type": "code",
   "execution_count": null,
   "metadata": {},
   "outputs": [],
   "source": [
    "# Create GLM features\n",
    "driv_age_lev = [\"18-20\", \"21-25\", \"26-30\", \"31-40\", \"41-50\", \"51-70\", \"71+\"]\n",
    "driv_age_lev2 = [\"31-40\", *[lev for lev in driv_age_lev if lev != \"31-40\"]]\n",
    "\n",
    "df = df.assign(\n",
    "    AreaGLM=lambda x: x.Area.cat.codes + 1,  # Make Area code continuous\n",
    "    VehPowerGLM=lambda x: pd.Categorical(x.VehPower.clip(0, 9)),  # Make categorical\n",
    "    # Create age categories\n",
    "    VehAgeGLM=lambda x: pd.cut(\n",
    "        x.VehAge, bins=[-1, 5, 12, 101], labels=[\"0-5\", \"6-12\", \"12+\"]\n",
    "    ),\n",
    "    DrivAgeGLM=lambda x: pd.Categorical(\n",
    "        pd.cut(x.DrivAge, bins=[17, 20, 25, 30, 40, 50, 70, 101], labels=driv_age_lev),\n",
    "        categories=driv_age_lev2,\n",
    "    ),\n",
    "    BonusMalusGLM=lambda x: x.BonusMalus.clip(0, 150),  # Censor bonus-malus level\n",
    "    DensityGLM=lambda x: np.log(x.Density),  # Log-transform density\n",
    ")"
   ]
  },
  {
   "cell_type": "markdown",
   "metadata": {},
   "source": [
    "### Split into Learning and Test Sets"
   ]
  },
  {
   "cell_type": "code",
   "execution_count": 37,
   "metadata": {},
   "outputs": [
    {
     "name": "stdout",
     "output_type": "stream",
     "text": [
      "Learning set size: 610206\n",
      "Test set size: 67801\n"
     ]
    }
   ],
   "source": [
    "# Split data (this uses the same split and order as in Wuthrich-Merz (Springer 2023))\n",
    "learn, test = (df[df.LearnTest == subset].copy() for subset in (\"L\", \"T\"))\n",
    "\n",
    "print(f\"Learning set size: {learn.shape[0]}\")\n",
    "print(f\"Test set size: {test.shape[0]}\")"
   ]
  },
  {
   "cell_type": "markdown",
   "metadata": {},
   "source": [
    "### GLM Analysis"
   ]
  },
  {
   "cell_type": "code",
   "execution_count": 35,
   "metadata": {},
   "outputs": [
    {
     "name": "stdout",
     "output_type": "stream",
     "text": [
      "Time taken: 2.26 seconds\n",
      "\n",
      "                 Generalized Linear Model Regression Results                  \n",
      "==============================================================================\n",
      "Dep. Variable:                ClaimNb   No. Observations:               610206\n",
      "Model:                            GLM   Df Residuals:                   610186\n",
      "Model Family:                 Poisson   Df Model:                           19\n",
      "Link Function:                    Log   Scale:                          1.0000\n",
      "Method:                          IRLS   Log-Likelihood:                -98513.\n",
      "Date:                Sat, 12 Apr 2025   Deviance:                   1.5138e+05\n",
      "Time:                        11:40:42   Pearson chi2:                 1.02e+06\n",
      "No. Iterations:                     7   Pseudo R-squ. (CS):           0.004052\n",
      "Covariance Type:            nonrobust                                         \n",
      "=======================================================================================\n",
      "                          coef    std err          z      P>|z|      [0.025      0.975]\n",
      "---------------------------------------------------------------------------------------\n",
      "Intercept              -3.2590      0.034    -95.561      0.000      -3.326      -3.192\n",
      "DrivAgeGLM[T.18-20]     1.2751      0.045     28.357      0.000       1.187       1.363\n",
      "DrivAgeGLM[T.21-25]     0.6417      0.029     22.390      0.000       0.585       0.698\n",
      "DrivAgeGLM[T.26-30]     0.1540      0.026      5.990      0.000       0.104       0.204\n",
      "DrivAgeGLM[T.41-50]     0.1220      0.019      6.446      0.000       0.085       0.159\n",
      "DrivAgeGLM[T.51-70]    -0.0170      0.019     -0.920      0.358      -0.053       0.019\n",
      "DrivAgeGLM[T.71+]      -0.0471      0.030     -1.573      0.116      -0.106       0.012\n",
      "VehBrand[T.B2]          0.0072      0.018      0.400      0.689      -0.028       0.043\n",
      "VehBrand[T.B3]          0.0852      0.025      3.402      0.001       0.036       0.134\n",
      "VehBrand[T.B4]          0.0346      0.035      1.002      0.317      -0.033       0.102\n",
      "VehBrand[T.B5]          0.1228      0.029      4.266      0.000       0.066       0.179\n",
      "VehBrand[T.B6]          0.0803      0.032      2.484      0.013       0.017       0.144\n",
      "VehBrand[T.B10]         0.0678      0.041      1.669      0.095      -0.012       0.147\n",
      "VehBrand[T.B11]         0.2214      0.043      5.107      0.000       0.136       0.306\n",
      "VehBrand[T.B12]        -0.1522      0.021     -7.293      0.000      -0.193      -0.111\n",
      "VehBrand[T.B13]         0.1019      0.047      2.166      0.030       0.010       0.194\n",
      "VehBrand[T.B14]        -0.2018      0.094     -2.153      0.031      -0.386      -0.018\n",
      "VehGas[T.Regular]      -0.1988      0.013    -14.919      0.000      -0.225      -0.173\n",
      "DensityGLM              0.0945      0.015      6.459      0.000       0.066       0.123\n",
      "AreaGLM                 0.0285      0.020      1.431      0.152      -0.011       0.068\n",
      "=======================================================================================\n"
     ]
    }
   ],
   "source": [
    "# Fit GLM\n",
    "start_time = time.time()\n",
    "\n",
    "model = glm(\n",
    "    \"ClaimNb ~ DrivAgeGLM + VehBrand + VehGas + DensityGLM + AreaGLM\",\n",
    "    data=learn,\n",
    "    offset=np.log(learn[\"Exposure\"]),\n",
    "    family=sm.families.Poisson(),\n",
    ")\n",
    "\n",
    "glm_results = model.fit()\n",
    "print(f\"Time taken: {time.time() - start_time:.2f} seconds\\n\")\n",
    "\n",
    "# Display model summary\n",
    "print(glm_results.summary())"
   ]
  },
  {
   "cell_type": "markdown",
   "metadata": {},
   "source": [
    "### Calculate Deviance Losses"
   ]
  },
  {
   "cell_type": "code",
   "execution_count": 41,
   "metadata": {},
   "outputs": [
    {
     "name": "stdout",
     "output_type": "stream",
     "text": [
      "Deviance Losses:\n",
      "Learning sample: 24.807\n",
      "Test sample: 25.027\n"
     ]
    }
   ],
   "source": [
    "# Get predictions\n",
    "learn[\"GLM\"] = glm_results.predict(learn) * learn[\"Exposure\"]\n",
    "test[\"GLM\"] = glm_results.predict(test) * test[\"Exposure\"]\n",
    "\n",
    "# Calculate in-sample and out-of-sample deviance\n",
    "learn_deviance, test_deviance = (\n",
    "    poisson_deviance(x.GLM, x.ClaimNb) for x in (learn, test)\n",
    ")\n",
    "\n",
    "print(\"Deviance Losses:\")\n",
    "print(f\"Learning sample: {learn_deviance:.3f}\")\n",
    "print(f\"Test sample: {test_deviance:.3f}\")"
   ]
  },
  {
   "cell_type": "code",
   "execution_count": null,
   "metadata": {},
   "outputs": [],
   "source": []
  }
 ],
 "metadata": {
  "kernelspec": {
   "display_name": ".venv",
   "language": "python",
   "name": "python3"
  },
  "language_info": {
   "codemirror_mode": {
    "name": "ipython",
    "version": 3
   },
   "file_extension": ".py",
   "mimetype": "text/x-python",
   "name": "python",
   "nbconvert_exporter": "python",
   "pygments_lexer": "ipython3",
   "version": "3.12.9"
  }
 },
 "nbformat": 4,
 "nbformat_minor": 4
}
